{
 "cells": [
  {
   "cell_type": "markdown",
   "metadata": {},
   "source": [
    "# 1. Dask-01"
   ]
  },
  {
   "cell_type": "markdown",
   "metadata": {},
   "source": [
    "* Abro el terminal desde que lancé el Notebook.\n",
    "* Cargo los modulos o entornos conda necesarios.\n",
    "* Ejecuto:\n",
    "    * python dask_cluster.py --scheduler\n",
    "* Se crea automáticamente un fichero **scheduler_info.json** con la info del scheduler.\n",
    "* Este fichero se le puede proporcionar al Client de dask"
   ]
  },
  {
   "cell_type": "code",
   "execution_count": null,
   "metadata": {},
   "outputs": [],
   "source": [
    "from distributed import Client\n",
    "client = Client(\n",
    "    scheduler_file = \"/home/cesga/gferro/dfailde/dask_cluster/scheduler_info.json\")"
   ]
  },
  {
   "cell_type": "code",
   "execution_count": null,
   "metadata": {
    "scrolled": true
   },
   "outputs": [],
   "source": [
    "client"
   ]
  },
  {
   "cell_type": "markdown",
   "metadata": {},
   "source": [
    "El cliente así creado solo tiene el scheduler hay que añadirle los workers. \n",
    "\n",
    "Para ellos se pueden ir añadiendo workers manualmente del siguiente modo:\n",
    "* python dask_cluster.py --worker\n",
    "\n",
    "Esta forma utiliza el json: **scheduler_info.json** para que los workers sepan donde está el sceduler.\n",
    "Se puede proporcionar la direccion del scheduler directamente del siguiente modo:\n",
    "\n",
    "* Ejemplo: python dask_cluster.py --worker -scheduler_address \"tcp://10.120.10.7:8085\"\n",
    "\n",
    "Los workers se pueden lanzar al sistema de colas y unirse al scheduler a medida que vayan entrando. \n",
    "Se puede usar el script:\n",
    "\n",
    "* sbatch  dask_submit_workers.sh"
   ]
  },
  {
   "cell_type": "markdown",
   "metadata": {},
   "source": [
    "## Dashboard\n",
    "\n",
    "Si queremos acceder al dashboard hay que ejecutar en el nodo donde se lanzo el scheduler el siguiente comando:\n",
    "\n",
    "* python dask_cluster.py --ssh_file\n",
    "\n",
    "Esteo creará en el directorio un fichero **ssh_command.txt** con el comando completo para hacer la redirección de puertos necesaria para poder acceder al dashboard e dask.\n",
    "\n",
    "Cuando se ejecute el comando en el terminal solo tendremos que ejecutar en un navedagor la orden localhost:PUERTO donde PUERTO se puede encontrar en el comando necesario para la redireccion de puertos.\n",
    "\n",
    "* Ejemplo. Supongamos que el comando que encontramos en **ssh_command.txt** es:\n",
    "    * ssh -t -L 8787:localhost:8787 gferro@ft3.cesga.es ssh -L 8787:172.30.211.22:8787 ilk-249\n",
    "* Lo ejecutamos en un terminal.\n",
    "* Nos vamos al navegador y pegamos: localhost:8787\n",
    "\n",
    "Yaa tendríamos acceso al dashboard de dask!"
   ]
  },
  {
   "cell_type": "markdown",
   "metadata": {},
   "source": [
    "# 2. Dask-02\n",
    "\n",
    "Quiero levantar el scheduler y los workers en el mismo trabajo!\n",
    "\n",
    "Configuro adecuanamente los recursos en el **dask_cluster_submit.sh** y lo lanzo al sistema de colas.\n",
    "\n",
    "* sbatch  dask_cluster_submit.sh"
   ]
  },
  {
   "cell_type": "code",
   "execution_count": 1,
   "metadata": {},
   "outputs": [],
   "source": [
    "from distributed import Client"
   ]
  },
  {
   "cell_type": "code",
   "execution_count": 2,
   "metadata": {
    "scrolled": true
   },
   "outputs": [],
   "source": [
    "client = Client(\n",
    "    scheduler_file = \"/home/cesga/gferro/dfailde/dask_cluster/scheduler_info.json\")"
   ]
  },
  {
   "cell_type": "code",
   "execution_count": 3,
   "metadata": {},
   "outputs": [
    {
     "data": {
      "text/html": [
       "<table style=\"border: 2px solid white;\">\n",
       "<tr>\n",
       "<td style=\"vertical-align: top; border: 0px solid white\">\n",
       "<h3 style=\"text-align: left;\">Client</h3>\n",
       "<ul style=\"text-align: left; list-style: none; margin: 0; padding: 0;\">\n",
       "  <li><b>Scheduler: </b>tcp://172.30.211.22:32861</li>\n",
       "  <li><b>Dashboard: </b><a href='http://172.30.211.22:8787/status' target='_blank'>http://172.30.211.22:8787/status</a></li>\n",
       "</ul>\n",
       "</td>\n",
       "<td style=\"vertical-align: top; border: 0px solid white\">\n",
       "<h3 style=\"text-align: left;\">Cluster</h3>\n",
       "<ul style=\"text-align: left; list-style:none; margin: 0; padding: 0;\">\n",
       "  <li><b>Workers: </b>4</li>\n",
       "  <li><b>Cores: </b>4</li>\n",
       "  <li><b>Memory: </b>22.55 GB</li>\n",
       "</ul>\n",
       "</td>\n",
       "</tr>\n",
       "</table>"
      ],
      "text/plain": [
       "<Client: 'tcp://172.30.211.22:32861' processes=4 threads=4, memory=22.55 GB>"
      ]
     },
     "execution_count": 3,
     "metadata": {},
     "output_type": "execute_result"
    }
   ],
   "source": [
    "client"
   ]
  },
  {
   "cell_type": "markdown",
   "metadata": {},
   "source": [
    "## 2.1 Dashboard de Dask\n",
    "\n",
    "En este caso si todo fue bien cuando se levante el cluster el fichero **ssh_command.txt** se generará automaticamente en el directorio de lanzamiento.\n",
    "\n",
    "Los pasos son los mismos que los explicados anteriormente."
   ]
  }
 ],
 "metadata": {
  "kernelspec": {
   "display_name": "Python 3",
   "language": "python",
   "name": "python3"
  },
  "language_info": {
   "codemirror_mode": {
    "name": "ipython",
    "version": 3
   },
   "file_extension": ".py",
   "mimetype": "text/x-python",
   "name": "python",
   "nbconvert_exporter": "python",
   "pygments_lexer": "ipython3",
   "version": "3.6.12"
  }
 },
 "nbformat": 4,
 "nbformat_minor": 4
}
